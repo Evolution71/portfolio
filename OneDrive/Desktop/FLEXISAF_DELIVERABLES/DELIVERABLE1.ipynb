{
 "cells": [
  {
   "cell_type": "code",
   "execution_count": 1,
   "metadata": {},
   "outputs": [
    {
     "name": "stdout",
     "output_type": "stream",
     "text": [
      "\n",
      "You chose: Rock\n",
      "Computer chose: Scissors\n",
      "\n",
      "You win!\n"
     ]
    }
   ],
   "source": [
    "#Here is a Python program that simulates a game of Rock, Paper, Scissors\n",
    "\n",
    "import random\n",
    "\n",
    "# Define the possible choices\n",
    "choices = [\"Rock\", \"Paper\", \"Scissors\"]\n",
    "\n",
    "# Function to get the user's choice\n",
    "def get_user_choice():\n",
    "    while True:\n",
    "        user_choice = input(\"Enter your choice (Rock, Paper, or Scissors): \").strip().title()\n",
    "        if user_choice in choices:\n",
    "            return user_choice\n",
    "        else:\n",
    "            print(\"Invalid choice. Please try again.\")\n",
    "\n",
    "# Function to generate a random choice for the computer\n",
    "def get_computer_choice():\n",
    "    return random.choice(choices)\n",
    "\n",
    "# Function to determine the winner\n",
    "def determine_winner(user_choice, computer_choice):\n",
    "    if user_choice == computer_choice:\n",
    "        return \"Tie!\"\n",
    "    elif (user_choice == \"Rock\" and computer_choice == \"Scissors\") or \\\n",
    "         (user_choice == \"Paper\" and computer_choice == \"Rock\") or \\\n",
    "         (user_choice == \"Scissors\" and computer_choice == \"Paper\"):\n",
    "        return \"You win!\"\n",
    "    else:\n",
    "        return \"Computer wins!\"\n",
    "\n",
    "# Main game loop\n",
    "while True:\n",
    "    user_choice = get_user_choice()\n",
    "    computer_choice = get_computer_choice()\n",
    "    print(f\"\\nYou chose: {user_choice}\")\n",
    "    print(f\"Computer chose: {computer_choice}\\n\")\n",
    "    result = determine_winner(user_choice, computer_choice)\n",
    "    print(result)\n",
    "    play_again = input(\"\\nDo you want to play again? (yes/no): \")\n",
    "    if play_again.lower() != \"yes\":\n",
    "        break\n",
    "\n",
    "#The program defines the possible choices (Rock, Paper, and Scissors) in a list.\n",
    "#The get_user_choice() function prompts the user to enter their choice and checks if it's a valid choice. If not, it prompts the user to try again.\n",
    "#The get_computer_choice() function generates a random choice for the computer using the random.choice() function.\n",
    "#The determine_winner() function takes the user's choice and the computer's choice as input and determines the winner based on the rules of Rock, Paper, Scissors.\n",
    "#The main game loop prompts the user to play again after each game. If the user chooses to play again, the loop repeats. Otherwise, the program exits.\n"
   ]
  }
 ],
 "metadata": {
  "kernelspec": {
   "display_name": "Python 3",
   "language": "python",
   "name": "python3"
  },
  "language_info": {
   "codemirror_mode": {
    "name": "ipython",
    "version": 3
   },
   "file_extension": ".py",
   "mimetype": "text/x-python",
   "name": "python",
   "nbconvert_exporter": "python",
   "pygments_lexer": "ipython3",
   "version": "3.12.4"
  }
 },
 "nbformat": 4,
 "nbformat_minor": 2
}
