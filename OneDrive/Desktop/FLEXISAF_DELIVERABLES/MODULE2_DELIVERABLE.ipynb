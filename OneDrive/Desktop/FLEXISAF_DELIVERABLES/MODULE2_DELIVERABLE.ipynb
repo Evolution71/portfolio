{
 "cells": [
  {
   "cell_type": "markdown",
   "metadata": {},
   "source": [
    "## Let's analyze the built-in tips dataset from the seaborn library, which is a small,"
   ]
  },
  {
   "cell_type": "markdown",
   "metadata": {},
   "source": [
    "### publicly available dataset. We'll use Python's Pandas library to explore and analyze the data."
   ]
  },
  {
   "cell_type": "code",
   "execution_count": 14,
   "metadata": {},
   "outputs": [
    {
     "name": "stdout",
     "output_type": "stream",
     "text": [
      "First few rows of the data:\n",
      "   total_bill   tip     sex smoker  day    time  size\n",
      "0       16.99  1.01  Female     No  Sun  Dinner     2\n",
      "1       10.34  1.66    Male     No  Sun  Dinner     3\n",
      "2       21.01  3.50    Male     No  Sun  Dinner     3\n",
      "3       23.68  3.31    Male     No  Sun  Dinner     2\n",
      "4       24.59  3.61  Female     No  Sun  Dinner     4\n",
      "\n",
      "Data types of each column:\n",
      "<class 'pandas.core.frame.DataFrame'>\n",
      "RangeIndex: 244 entries, 0 to 243\n",
      "Data columns (total 7 columns):\n",
      " #   Column      Non-Null Count  Dtype   \n",
      "---  ------      --------------  -----   \n",
      " 0   total_bill  244 non-null    float64 \n",
      " 1   tip         244 non-null    float64 \n",
      " 2   sex         244 non-null    category\n",
      " 3   smoker      244 non-null    category\n",
      " 4   day         244 non-null    category\n",
      " 5   time        244 non-null    category\n",
      " 6   size        244 non-null    int64   \n",
      "dtypes: category(4), float64(2), int64(1)\n",
      "memory usage: 7.4 KB\n",
      "None\n",
      "\n",
      "Summary statistics:\n",
      "       total_bill         tip        size\n",
      "count  244.000000  244.000000  244.000000\n",
      "mean    19.785943    2.998279    2.569672\n",
      "std      8.902412    1.383638    0.951100\n",
      "min      3.070000    1.000000    1.000000\n",
      "25%     13.347500    2.000000    2.000000\n",
      "50%     17.795000    2.900000    2.000000\n",
      "75%     24.127500    3.562500    3.000000\n",
      "max     50.810000   10.000000    6.000000\n"
     ]
    }
   ],
   "source": [
    "\n",
    "import pandas as pd\n",
    "import seaborn as sns\n",
    "\n",
    "# Load the tips dataset\n",
    "tips = sns.load_dataset('tips')\n",
    "\n",
    "# Explore the data\n",
    "print(\"First few rows of the data:\")\n",
    "print(tips.head())\n",
    "\n",
    "print(\"\\nData types of each column:\")\n",
    "print(tips.info())\n",
    "\n",
    "print(\"\\nSummary statistics:\")\n",
    "print(tips.describe())\n"
   ]
  },
  {
   "cell_type": "code",
   "execution_count": 15,
   "metadata": {},
   "outputs": [
    {
     "name": "stdout",
     "output_type": "stream",
     "text": [
      "\n",
      "Mean of each numerical feature:\n",
      "total_bill    19.785943\n",
      "tip            2.998279\n",
      "dtype: float64\n",
      "\n",
      "Median of each numerical feature:\n",
      "total_bill    17.795\n",
      "tip            2.900\n",
      "dtype: float64\n",
      "\n",
      "Mode of each numerical feature:\n",
      "   total_bill  tip\n",
      "0       13.42  2.0\n",
      "\n",
      "Standard deviation of each numerical feature:\n",
      "total_bill    8.902412\n",
      "tip           1.383638\n",
      "dtype: float64\n",
      "\n",
      "Correlation between different features:\n",
      "            total_bill       tip      size\n",
      "total_bill    1.000000  0.675734  0.598315\n",
      "tip           0.675734  1.000000  0.489299\n",
      "size          0.598315  0.489299  1.000000\n"
     ]
    }
   ],
   "source": [
    "# QUESTION TWO\n",
    "# Calculate basic statistics\n",
    "print(\"\\nMean of each numerical feature:\")\n",
    "print(tips[['total_bill', 'tip']].mean())\n",
    "\n",
    "print(\"\\nMedian of each numerical feature:\")\n",
    "print(tips[['total_bill', 'tip']].median())\n",
    "\n",
    "print(\"\\nMode of each numerical feature:\")\n",
    "print(tips[['total_bill', 'tip']].mode())\n",
    "\n",
    "print(\"\\nStandard deviation of each numerical feature:\")\n",
    "print(tips[['total_bill', 'tip']].std())\n",
    "\n",
    "# Calculate correlation between different features\n",
    "print(\"\\nCorrelation between different features:\")\n",
    "print(tips[['total_bill', 'tip','size']].corr())\n"
   ]
  },
  {
   "cell_type": "markdown",
   "metadata": {},
   "source": [
    "### This code will output the first few rows of the data, the data types of each column, summary statistics, \n",
    "### and basic statistics (mean, median, mode, standard deviation) for each numerical feature. \n",
    "### It will also calculate the correlation between the total_bill and tip features.\n",
    "\n",
    "## Here's a brief explanation of the output:\n",
    "\n",
    "- ### The head() method prints the first few rows of the data.\n",
    "- ### info() method prints the data types of each column.\n",
    "- ### The describe() method prints summary statistics (mean, median, standard deviation, etc.) for each numerical feature.\n",
    "- ### The mean(), median(), mode(), and std() methods calculate the respective statistics for each numerical feature.\n",
    "- ### The corr() method calculates the correlation between the total_bill and tip features.\n",
    "\n"
   ]
  }
 ],
 "metadata": {
  "kernelspec": {
   "display_name": "Python 3",
   "language": "python",
   "name": "python3"
  },
  "language_info": {
   "codemirror_mode": {
    "name": "ipython",
    "version": 3
   },
   "file_extension": ".py",
   "mimetype": "text/x-python",
   "name": "python",
   "nbconvert_exporter": "python",
   "pygments_lexer": "ipython3",
   "version": "3.12.4"
  }
 },
 "nbformat": 4,
 "nbformat_minor": 2
}
